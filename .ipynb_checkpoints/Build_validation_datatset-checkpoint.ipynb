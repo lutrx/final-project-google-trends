{
 "cells": [
  {
   "cell_type": "code",
   "execution_count": 1,
   "id": "efd449b0",
   "metadata": {},
   "outputs": [],
   "source": [
    "import pandas as pd\n",
    "import numpy as np"
   ]
  },
  {
   "cell_type": "code",
   "execution_count": 2,
   "id": "db0cf3fd",
   "metadata": {},
   "outputs": [],
   "source": [
    "data_from_596 = pd.read_csv('dataset_all615.csv')"
   ]
  },
  {
   "cell_type": "code",
   "execution_count": 4,
   "id": "90f37677",
   "metadata": {},
   "outputs": [],
   "source": [
    "#data_from_596"
   ]
  },
  {
   "cell_type": "code",
   "execution_count": 5,
   "id": "78b30304",
   "metadata": {},
   "outputs": [],
   "source": [
    "data_from_616 = pd.read_csv('dataset_all618.csv')"
   ]
  },
  {
   "cell_type": "code",
   "execution_count": 7,
   "id": "d4b79001",
   "metadata": {},
   "outputs": [],
   "source": [
    "#data_from_616"
   ]
  },
  {
   "cell_type": "code",
   "execution_count": 8,
   "id": "701c7541",
   "metadata": {},
   "outputs": [],
   "source": [
    "data_from_619 = pd.read_csv('dataset_all639.csv')"
   ]
  },
  {
   "cell_type": "code",
   "execution_count": 10,
   "id": "8562939d",
   "metadata": {},
   "outputs": [],
   "source": [
    "#data_from_619"
   ]
  },
  {
   "cell_type": "code",
   "execution_count": 11,
   "id": "b49ca7b2",
   "metadata": {},
   "outputs": [],
   "source": [
    "data_from_640 = pd.read_csv('dataset_all652.csv')"
   ]
  },
  {
   "cell_type": "code",
   "execution_count": 13,
   "id": "f39308e6",
   "metadata": {},
   "outputs": [],
   "source": [
    "#data_from_640"
   ]
  },
  {
   "cell_type": "code",
   "execution_count": 14,
   "id": "77086765",
   "metadata": {},
   "outputs": [],
   "source": [
    "data_653 = pd.read_csv('dataset_all653.csv')"
   ]
  },
  {
   "cell_type": "code",
   "execution_count": 16,
   "id": "9920f963",
   "metadata": {},
   "outputs": [],
   "source": [
    "#data_653"
   ]
  },
  {
   "cell_type": "code",
   "execution_count": 17,
   "id": "83e44116",
   "metadata": {},
   "outputs": [],
   "source": [
    "data_from_654 = pd.read_csv('dataset_all677.csv')"
   ]
  },
  {
   "cell_type": "code",
   "execution_count": 19,
   "id": "eacf6877",
   "metadata": {},
   "outputs": [],
   "source": [
    "#data_from_654"
   ]
  },
  {
   "cell_type": "code",
   "execution_count": 20,
   "id": "683361b7",
   "metadata": {},
   "outputs": [],
   "source": [
    "data_from_678 = pd.read_csv('dataset_all755.csv')"
   ]
  },
  {
   "cell_type": "code",
   "execution_count": 22,
   "id": "4e6831d5",
   "metadata": {},
   "outputs": [],
   "source": [
    "#data_from_678"
   ]
  },
  {
   "cell_type": "code",
   "execution_count": 23,
   "id": "1c3b36bf",
   "metadata": {},
   "outputs": [],
   "source": [
    "data_from_756 = pd.read_csv('dataset_all788.csv')"
   ]
  },
  {
   "cell_type": "code",
   "execution_count": 25,
   "id": "31c8ac85",
   "metadata": {},
   "outputs": [],
   "source": [
    "#data_from_756"
   ]
  },
  {
   "cell_type": "code",
   "execution_count": 26,
   "id": "fc54c60f",
   "metadata": {},
   "outputs": [],
   "source": [
    "data_from_789 = pd.read_csv('dataset_all817.csv')"
   ]
  },
  {
   "cell_type": "code",
   "execution_count": 28,
   "id": "0621b3c4",
   "metadata": {},
   "outputs": [],
   "source": [
    "#data_from_789"
   ]
  },
  {
   "cell_type": "code",
   "execution_count": 29,
   "id": "8320250a",
   "metadata": {},
   "outputs": [],
   "source": [
    "data_from_818 = pd.read_csv('dataset_all905.csv')"
   ]
  },
  {
   "cell_type": "code",
   "execution_count": 31,
   "id": "4d145560",
   "metadata": {},
   "outputs": [],
   "source": [
    "#data_from_818"
   ]
  },
  {
   "cell_type": "code",
   "execution_count": 32,
   "id": "5b33f92c",
   "metadata": {},
   "outputs": [],
   "source": [
    "validation_set = pd.concat([data_from_596, data_from_616, data_from_619, data_from_640, data_653, data_from_654, \n",
    "                           data_from_678, data_from_756, data_from_789, data_from_818], axis=1)"
   ]
  },
  {
   "cell_type": "code",
   "execution_count": 39,
   "id": "e600c443",
   "metadata": {},
   "outputs": [],
   "source": [
    "#validation_set"
   ]
  },
  {
   "cell_type": "code",
   "execution_count": 35,
   "id": "2a82f0cb",
   "metadata": {},
   "outputs": [],
   "source": [
    "def removeDuplicateColumns(df):\n",
    "    df_new = df.loc[:,~df.columns.duplicated()]\n",
    "    return df_new"
   ]
  },
  {
   "cell_type": "code",
   "execution_count": 36,
   "id": "a7791490",
   "metadata": {},
   "outputs": [],
   "source": [
    "validation_set_corr = removeDuplicateColumns(validation_set)"
   ]
  },
  {
   "cell_type": "code",
   "execution_count": 40,
   "id": "cf8f4260",
   "metadata": {},
   "outputs": [],
   "source": [
    "#validation_set_corr"
   ]
  },
  {
   "cell_type": "code",
   "execution_count": 41,
   "id": "7da29db6",
   "metadata": {},
   "outputs": [],
   "source": [
    "validation_set_corr.to_csv('validation_dataset.csv', index=False)"
   ]
  },
  {
   "cell_type": "code",
   "execution_count": null,
   "id": "094aaf55",
   "metadata": {},
   "outputs": [],
   "source": []
  }
 ],
 "metadata": {
  "kernelspec": {
   "display_name": "Python 3 (ipykernel)",
   "language": "python",
   "name": "python3"
  },
  "language_info": {
   "codemirror_mode": {
    "name": "ipython",
    "version": 3
   },
   "file_extension": ".py",
   "mimetype": "text/x-python",
   "name": "python",
   "nbconvert_exporter": "python",
   "pygments_lexer": "ipython3",
   "version": "3.9.13"
  }
 },
 "nbformat": 4,
 "nbformat_minor": 5
}
