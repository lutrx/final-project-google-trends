{
 "cells": [
  {
   "cell_type": "code",
   "execution_count": 1,
   "id": "d4d7e090",
   "metadata": {},
   "outputs": [],
   "source": [
    "import pandas as pd\n",
    "import numpy as np"
   ]
  },
  {
   "cell_type": "code",
   "execution_count": 2,
   "id": "067fe412",
   "metadata": {},
   "outputs": [],
   "source": [
    "data_from_596 = pd.read_csv('dataset_all615.csv')"
   ]
  },
  {
   "cell_type": "code",
   "execution_count": 4,
   "id": "82315bd1",
   "metadata": {},
   "outputs": [],
   "source": [
    "#data_from_596"
   ]
  },
  {
   "cell_type": "code",
   "execution_count": 5,
   "id": "74e3fd96",
   "metadata": {},
   "outputs": [],
   "source": [
    "data_from_616 = pd.read_csv('dataset_all618.csv')"
   ]
  },
  {
   "cell_type": "code",
   "execution_count": 7,
   "id": "f9218e89",
   "metadata": {},
   "outputs": [],
   "source": [
    "#data_from_616"
   ]
  },
  {
   "cell_type": "code",
   "execution_count": 8,
   "id": "cdb18e60",
   "metadata": {},
   "outputs": [],
   "source": [
    "data_from_619 = pd.read_csv('dataset_all639.csv')"
   ]
  },
  {
   "cell_type": "code",
   "execution_count": 10,
   "id": "288a5f2d",
   "metadata": {},
   "outputs": [],
   "source": [
    "#data_from_619"
   ]
  },
  {
   "cell_type": "code",
   "execution_count": 11,
   "id": "12987908",
   "metadata": {},
   "outputs": [],
   "source": [
    "data_from_640 = pd.read_csv('dataset_all652.csv')"
   ]
  },
  {
   "cell_type": "code",
   "execution_count": 13,
   "id": "952588b6",
   "metadata": {},
   "outputs": [],
   "source": [
    "#data_from_640"
   ]
  },
  {
   "cell_type": "code",
   "execution_count": 14,
   "id": "0272f4bc",
   "metadata": {},
   "outputs": [],
   "source": [
    "data_653 = pd.read_csv('dataset_all653.csv')"
   ]
  },
  {
   "cell_type": "code",
   "execution_count": 16,
   "id": "56822421",
   "metadata": {},
   "outputs": [],
   "source": [
    "#data_653"
   ]
  },
  {
   "cell_type": "code",
   "execution_count": 17,
   "id": "00cfece9",
   "metadata": {},
   "outputs": [],
   "source": [
    "data_from_654 = pd.read_csv('dataset_all677.csv')"
   ]
  },
  {
   "cell_type": "code",
   "execution_count": 19,
   "id": "a05008f3",
   "metadata": {},
   "outputs": [],
   "source": [
    "#data_from_654"
   ]
  },
  {
   "cell_type": "code",
   "execution_count": 20,
   "id": "40676beb",
   "metadata": {},
   "outputs": [],
   "source": [
    "data_from_678 = pd.read_csv('dataset_all755.csv')"
   ]
  },
  {
   "cell_type": "code",
   "execution_count": 22,
   "id": "95df6723",
   "metadata": {},
   "outputs": [],
   "source": [
    "#data_from_678"
   ]
  },
  {
   "cell_type": "code",
   "execution_count": 23,
   "id": "f2e1182b",
   "metadata": {},
   "outputs": [],
   "source": [
    "data_from_756 = pd.read_csv('dataset_all788.csv')"
   ]
  },
  {
   "cell_type": "code",
   "execution_count": 25,
   "id": "30d207ef",
   "metadata": {},
   "outputs": [],
   "source": [
    "#data_from_756"
   ]
  },
  {
   "cell_type": "code",
   "execution_count": 26,
   "id": "39e1584c",
   "metadata": {},
   "outputs": [],
   "source": [
    "data_from_789 = pd.read_csv('dataset_all817.csv')"
   ]
  },
  {
   "cell_type": "code",
   "execution_count": 28,
   "id": "05fd7b07",
   "metadata": {},
   "outputs": [],
   "source": [
    "#data_from_789"
   ]
  },
  {
   "cell_type": "code",
   "execution_count": 29,
   "id": "b5bc51ce",
   "metadata": {},
   "outputs": [],
   "source": [
    "data_from_818 = pd.read_csv('dataset_all905.csv')"
   ]
  },
  {
   "cell_type": "code",
   "execution_count": 31,
   "id": "45872ea2",
   "metadata": {},
   "outputs": [],
   "source": [
    "#data_from_818"
   ]
  },
  {
   "cell_type": "code",
   "execution_count": 32,
   "id": "8315c982",
   "metadata": {},
   "outputs": [],
   "source": [
    "validation_set = pd.concat([data_from_596, data_from_616, data_from_619, data_from_640, data_653, data_from_654, \n",
    "                           data_from_678, data_from_756, data_from_789, data_from_818], axis=1)"
   ]
  },
  {
   "cell_type": "code",
   "execution_count": 39,
   "id": "033c46f3",
   "metadata": {},
   "outputs": [],
   "source": [
    "#validation_set"
   ]
  },
  {
   "cell_type": "code",
   "execution_count": 35,
   "id": "f06643ad",
   "metadata": {},
   "outputs": [],
   "source": [
    "def removeDuplicateColumns(df):\n",
    "    df_new = df.loc[:,~df.columns.duplicated()]\n",
    "    return df_new"
   ]
  },
  {
   "cell_type": "code",
   "execution_count": 36,
   "id": "74230aa5",
   "metadata": {},
   "outputs": [],
   "source": [
    "validation_set_corr = removeDuplicateColumns(validation_set)"
   ]
  },
  {
   "cell_type": "code",
   "execution_count": 40,
   "id": "96f8e0a2",
   "metadata": {},
   "outputs": [],
   "source": [
    "#validation_set_corr"
   ]
  },
  {
   "cell_type": "code",
   "execution_count": 41,
   "id": "eb76f397",
   "metadata": {},
   "outputs": [],
   "source": [
    "validation_set_corr.to_csv('validation_dataset.csv', index=False)"
   ]
  },
  {
   "cell_type": "code",
   "execution_count": null,
   "id": "c1a40418",
   "metadata": {},
   "outputs": [],
   "source": []
  }
 ],
 "metadata": {
  "kernelspec": {
   "display_name": "Python 3 (ipykernel)",
   "language": "python",
   "name": "python3"
  },
  "language_info": {
   "codemirror_mode": {
    "name": "ipython",
    "version": 3
   },
   "file_extension": ".py",
   "mimetype": "text/x-python",
   "name": "python",
   "nbconvert_exporter": "python",
   "pygments_lexer": "ipython3",
   "version": "3.9.13"
  }
 },
 "nbformat": 4,
 "nbformat_minor": 5
}
